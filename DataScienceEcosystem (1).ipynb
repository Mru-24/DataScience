{
 "cells": [
  {
   "cell_type": "markdown",
   "id": "09d09f28-34d0-4c63-85d3-6d8b519f0250",
   "metadata": {},
   "source": [
    "# create a markdown cell with title of the cell"
   ]
  },
  {
   "cell_type": "markdown",
   "id": "a5bf6a16-f492-4704-b63d-6b1cc5937a52",
   "metadata": {},
   "source": [
    "Data Science Tools and Ecosysytem"
   ]
  },
  {
   "cell_type": "markdown",
   "id": "2493c4a5-e5e9-4567-9be2-a78dea1247c5",
   "metadata": {},
   "source": [
    "# create a markdown cell for an introduction"
   ]
  },
  {
   "cell_type": "markdown",
   "id": "87ad1d8d-d570-4b03-8ffd-7377c2a7b791",
   "metadata": {},
   "source": [
    "In this notebook, Data Science Tools and Ecosystem are summarized."
   ]
  },
  {
   "cell_type": "markdown",
   "id": "d1673a02-806b-43ce-9f05-852e3b51df4e",
   "metadata": {},
   "source": [
    "# insert a markdown cell to list objectives"
   ]
  },
  {
   "cell_type": "markdown",
   "id": "64ec44ff-ba98-49af-bfda-88085426cc43",
   "metadata": {},
   "source": [
    "**Objectives** : \n",
    "- List of Data Science languages\n",
    "- List of Data Science libraries\n",
    "- Table for Data Science Tools\n",
    "- arithmetric operations\n",
    "- multiplying and adding the integers\n",
    "- converting minutes into hours\n"
   ]
  },
  {
   "cell_type": "markdown",
   "id": "fa869507-b6b2-47c2-a2d2-306bde75369d",
   "metadata": {},
   "source": [
    "# create a markdown cell to list the data science languages"
   ]
  },
  {
   "cell_type": "markdown",
   "id": "4f3b220d-9546-417d-8d28-194a131a4020",
   "metadata": {},
   "source": [
    "Some of the popular languages that Data Scientists use are : \n",
    "1. Python\n",
    "2. JavaScript\n",
    "3. Scala\n",
    "4. R language\n",
    "5. SQL\n",
    "6. Julia"
   ]
  },
  {
   "cell_type": "markdown",
   "id": "1814c866-419e-47e8-97ac-5aadb15dad01",
   "metadata": {},
   "source": [
    "# create a markdown cell to list the data science libraries "
   ]
  },
  {
   "cell_type": "markdown",
   "id": "9d4925ab-f9a5-4f08-bda4-c611c5e94fe1",
   "metadata": {},
   "source": [
    "Some of the commonly used libraries used by Data Scientists include : \n",
    "1. Pandas\n",
    "2. Numpy\n",
    "3. Matplotlib\n",
    "4. TensorFlow\n",
    "5. SciPy\n",
    "6. PyTorch\n",
    "7. Seaborn\n",
    "8. Scikit-learn\n",
    "9. Plotly\n"
   ]
  },
  {
   "cell_type": "markdown",
   "id": "702e4f08-f882-4f70-8354-34df182c3069",
   "metadata": {},
   "source": [
    "# create  a markdown cell with a table of data science tools"
   ]
  },
  {
   "cell_type": "markdown",
   "id": "445f309f-dd49-4b55-957e-4385fcf02f91",
   "metadata": {},
   "source": [
    "| Data Science Tools |\n",
    "|--------------------|\n",
    "| RStudio |\n",
    "| Apache Spark |\n",
    "| TensorFlow |\n",
    "| Hadoop |"
   ]
  },
  {
   "cell_type": "markdown",
   "id": "be3ea9be-05f2-48d9-85f3-7d2da2b2a4ee",
   "metadata": {},
   "source": [
    "# create a markdown cell introducing arithmetic expression examples"
   ]
  },
  {
   "cell_type": "markdown",
   "id": "3112b619-647d-4344-9929-9687fa55d3d9",
   "metadata": {},
   "source": [
    "### H3 : Below are a few examples of evaluating arithmetic expressions in python :\n",
    "1. addition - 2+2\n",
    "2. subtraction - 4-3\n",
    "3. multiplication - 5*5\n",
    "4. division - 6/2"
   ]
  },
  {
   "cell_type": "code",
   "execution_count": 1,
   "id": "00466348-e679-433f-804e-f827c415242f",
   "metadata": {
    "tags": []
   },
   "outputs": [
    {
     "data": {
      "text/plain": [
       "17"
      ]
     },
     "execution_count": 1,
     "metadata": {},
     "output_type": "execute_result"
    }
   ],
   "source": [
    "# This a simple arithmetic expression to multiply and then add integers.\n",
    "(3*4)+5"
   ]
  },
  {
   "cell_type": "code",
   "execution_count": 4,
   "id": "606b3d65-7497-4aeb-89a5-ab402fc1f174",
   "metadata": {
    "tags": []
   },
   "outputs": [
    {
     "name": "stdin",
     "output_type": "stream",
     "text": [
      "enter the time in minutes:  200\n"
     ]
    },
    {
     "name": "stdout",
     "output_type": "stream",
     "text": [
      "3.3333333333333335\n"
     ]
    }
   ],
   "source": [
    "# This will convert 200 minutes into hours by dividing it by 60\n",
    "n=float(input('enter the time in minutes: '))\n",
    "hours=n/60\n",
    "print(hours)"
   ]
  },
  {
   "cell_type": "markdown",
   "id": "51b9ef62-dcb8-4697-afb2-ba984961e2b4",
   "metadata": {},
   "source": [
    "# create a markdown cell to indicate the Author's name"
   ]
  },
  {
   "cell_type": "markdown",
   "id": "8f669ef2-660c-4e39-8854-5015c55335b9",
   "metadata": {},
   "source": [
    "## H2 : Author\n",
    "Mrunalini Yeole"
   ]
  },
  {
   "cell_type": "code",
   "execution_count": null,
   "id": "c975d1aa-17b7-42cb-bff0-9aeefa0e91bb",
   "metadata": {},
   "outputs": [],
   "source": []
  }
 ],
 "metadata": {
  "kernelspec": {
   "display_name": "Python",
   "language": "python",
   "name": "conda-env-python-py"
  },
  "language_info": {
   "codemirror_mode": {
    "name": "ipython",
    "version": 3
   },
   "file_extension": ".py",
   "mimetype": "text/x-python",
   "name": "python",
   "nbconvert_exporter": "python",
   "pygments_lexer": "ipython3",
   "version": "3.7.12"
  }
 },
 "nbformat": 4,
 "nbformat_minor": 5
}
